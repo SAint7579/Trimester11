{
 "cells": [
  {
   "cell_type": "code",
   "execution_count": 1,
   "metadata": {
    "colab": {
     "base_uri": "https://localhost:8080/"
    },
    "executionInfo": {
     "elapsed": 9740,
     "status": "ok",
     "timestamp": 1607964730698,
     "user": {
      "displayName": "Parimal Dani",
      "photoUrl": "https://lh3.googleusercontent.com/a-/AOh14Ggoy5ny7b1R6ZKPFdoa-BaOnYCVqu9ofmrgPxkhs1w=s64",
      "userId": "01006080221562764718"
     },
     "user_tz": -330
    },
    "id": "0LM2R64O1HNS",
    "outputId": "c65cdafb-0ad4-4660-cffb-d0a7a65fad7e"
   },
   "outputs": [
    {
     "name": "stdout",
     "output_type": "stream",
     "text": [
      "Collecting ibm_watson\n",
      "  Downloading ibm-watson-5.0.0.tar.gz (381 kB)\n",
      "Requirement already satisfied: requests<3.0,>=2.0 in c:\\users\\vishw\\anaconda3\\lib\\site-packages (from ibm_watson) (2.24.0)\n",
      "Requirement already satisfied: python_dateutil>=2.5.3 in c:\\users\\vishw\\anaconda3\\lib\\site-packages (from ibm_watson) (2.8.1)\n",
      "Collecting websocket-client==0.48.0\n",
      "  Downloading websocket_client-0.48.0-py2.py3-none-any.whl (198 kB)\n",
      "Collecting ibm_cloud_sdk_core==1.7.3\n",
      "  Downloading ibm-cloud-sdk-core-1.7.3.tar.gz (27 kB)\n",
      "Requirement already satisfied: urllib3!=1.25.0,!=1.25.1,<1.26,>=1.21.1 in c:\\users\\vishw\\anaconda3\\lib\\site-packages (from requests<3.0,>=2.0->ibm_watson) (1.25.9)\n",
      "Requirement already satisfied: chardet<4,>=3.0.2 in c:\\users\\vishw\\anaconda3\\lib\\site-packages (from requests<3.0,>=2.0->ibm_watson) (3.0.4)\n",
      "Requirement already satisfied: certifi>=2017.4.17 in c:\\users\\vishw\\anaconda3\\lib\\site-packages (from requests<3.0,>=2.0->ibm_watson) (2020.6.20)\n",
      "Requirement already satisfied: idna<3,>=2.5 in c:\\users\\vishw\\anaconda3\\lib\\site-packages (from requests<3.0,>=2.0->ibm_watson) (2.10)\n",
      "Requirement already satisfied: six>=1.5 in c:\\users\\vishw\\anaconda3\\lib\\site-packages (from python_dateutil>=2.5.3->ibm_watson) (1.15.0)\n",
      "Collecting PyJWT>=1.7.1\n",
      "  Downloading PyJWT-1.7.1-py2.py3-none-any.whl (18 kB)\n",
      "Building wheels for collected packages: ibm-watson, ibm-cloud-sdk-core\n",
      "  Building wheel for ibm-watson (setup.py): started\n",
      "  Building wheel for ibm-watson (setup.py): finished with status 'done'\n",
      "  Created wheel for ibm-watson: filename=ibm_watson-5.0.0-py3-none-any.whl size=375167 sha256=aa19c47519b5603d8053b16cc9ebcc50505dc49aac95bb8b54a2b11f5efc27ca\n",
      "  Stored in directory: c:\\users\\vishw\\appdata\\local\\pip\\cache\\wheels\\de\\91\\e6\\e57a666457b56000ddc03108333b7ae827c24087e457b61438\n",
      "  Building wheel for ibm-cloud-sdk-core (setup.py): started\n",
      "  Building wheel for ibm-cloud-sdk-core (setup.py): finished with status 'done'\n",
      "  Created wheel for ibm-cloud-sdk-core: filename=ibm_cloud_sdk_core-1.7.3-py3-none-any.whl size=45948 sha256=9766d68fb9c41b175cbe214d849db5f97312cc74a8c09b97fb567dc08b785cb6\n",
      "  Stored in directory: c:\\users\\vishw\\appdata\\local\\pip\\cache\\wheels\\7f\\b2\\0c\\e98142cc63c7b835ee3bacb64806c2669dda0a30442d09e43e\n",
      "Successfully built ibm-watson ibm-cloud-sdk-core\n",
      "Installing collected packages: websocket-client, PyJWT, ibm-cloud-sdk-core, ibm-watson\n",
      "  Attempting uninstall: websocket-client\n",
      "    Found existing installation: websocket-client 0.57.0\n",
      "    Uninstalling websocket-client-0.57.0:\n",
      "      Successfully uninstalled websocket-client-0.57.0\n",
      "Successfully installed PyJWT-1.7.1 ibm-cloud-sdk-core-1.7.3 ibm-watson-5.0.0 websocket-client-0.48.0\n"
     ]
    }
   ],
   "source": [
    "!pip install ibm_watson"
   ]
  },
  {
   "cell_type": "code",
   "execution_count": 2,
   "metadata": {
    "colab": {
     "base_uri": "https://localhost:8080/"
    },
    "executionInfo": {
     "elapsed": 5933,
     "status": "ok",
     "timestamp": 1607964743369,
     "user": {
      "displayName": "Parimal Dani",
      "photoUrl": "https://lh3.googleusercontent.com/a-/AOh14Ggoy5ny7b1R6ZKPFdoa-BaOnYCVqu9ofmrgPxkhs1w=s64",
      "userId": "01006080221562764718"
     },
     "user_tz": -330
    },
    "id": "1M5UKWnHyA1I",
    "outputId": "06fbba9b-88e2-45e0-d721-97192371620e"
   },
   "outputs": [
    {
     "name": "stdout",
     "output_type": "stream",
     "text": [
      "{\n",
      "  \"name\": \"en-US_AllisonV3Voice\",\n",
      "  \"language\": \"en-US\",\n",
      "  \"gender\": \"female\",\n",
      "  \"description\": \"Allison: American English female voice. Dnn technology.\",\n",
      "  \"customizable\": true,\n",
      "  \"supported_features\": {\n",
      "    \"custom_pronunciation\": true,\n",
      "    \"voice_transformation\": false\n",
      "  },\n",
      "  \"url\": \"https://api.eu-gb.text-to-speech.watson.cloud.ibm.com/instances/d5ebf459-88c0-4286-9a6c-2ebc23f0537f/v1/voices/en-US_AllisonV3Voice\"\n",
      "}\n"
     ]
    }
   ],
   "source": [
    "#Text to speech convertor using IBM Watson API\n",
    "import json\n",
    "from ibm_watson import TextToSpeechV1\n",
    "from ibm_cloud_sdk_core.authenticators import IAMAuthenticator\n",
    "\n",
    "authenticator = IAMAuthenticator('ETWDjIpMsu2zgqWYf7B7OmF5M6XfhDQVzK0OTnEPgVae')              #API Key\n",
    "text_to_speech = TextToSpeechV1(\n",
    "    authenticator=authenticator\n",
    ")\n",
    "                                                                                  #API URL\n",
    "text_to_speech.set_service_url('https://api.eu-gb.text-to-speech.watson.cloud.ibm.com/instances/d5ebf459-88c0-4286-9a6c-2ebc23f0537f')\n",
    "\n",
    "voice = text_to_speech.get_voice('en-US_AllisonV3Voice').get_result()\n",
    "print(json.dumps(voice, indent=2))"
   ]
  },
  {
   "cell_type": "code",
   "execution_count": 3,
   "metadata": {
    "executionInfo": {
     "elapsed": 5130,
     "status": "ok",
     "timestamp": 1607964756980,
     "user": {
      "displayName": "Parimal Dani",
      "photoUrl": "https://lh3.googleusercontent.com/a-/AOh14Ggoy5ny7b1R6ZKPFdoa-BaOnYCVqu9ofmrgPxkhs1w=s64",
      "userId": "01006080221562764718"
     },
     "user_tz": -330
    },
    "id": "5nDwySobyA1K"
   },
   "outputs": [],
   "source": [
    "from ibm_watson import TextToSpeechV1\n",
    "from ibm_cloud_sdk_core.authenticators import IAMAuthenticator\n",
    "\n",
    "authenticator = IAMAuthenticator('ETWDjIpMsu2zgqWYf7B7OmF5M6XfhDQVzK0OTnEPgVae')\n",
    "text_to_speech = TextToSpeechV1(\n",
    "    authenticator=authenticator\n",
    ")\n",
    "\n",
    "text_to_speech.set_service_url('https://api.eu-gb.text-to-speech.watson.cloud.ibm.com/instances/d5ebf459-88c0-4286-9a6c-2ebc23f0537f')\n",
    "\n",
    "with open('hello_world.wav', 'wb') as audio_file:\n",
    "    audio_file.write(\n",
    "        text_to_speech.synthesize(\n",
    "            'Hello world, Welcome to CCNLP Course',\n",
    "            voice='en-US_AllisonV3Voice',\n",
    "            accept='audio/wav'        \n",
    "        ).get_result().content)"
   ]
  },
  {
   "cell_type": "code",
   "execution_count": 4,
   "metadata": {
    "colab": {
     "base_uri": "https://localhost:8080/"
    },
    "executionInfo": {
     "elapsed": 3653,
     "status": "ok",
     "timestamp": 1607964767336,
     "user": {
      "displayName": "Parimal Dani",
      "photoUrl": "https://lh3.googleusercontent.com/a-/AOh14Ggoy5ny7b1R6ZKPFdoa-BaOnYCVqu9ofmrgPxkhs1w=s64",
      "userId": "01006080221562764718"
     },
     "user_tz": -330
    },
    "id": "Z--2ACy7yA1K",
    "outputId": "495df7b6-03dc-4d6a-c2ea-49ccd50fd709"
   },
   "outputs": [
    {
     "name": "stdout",
     "output_type": "stream",
     "text": [
      "{\n",
      "  \"pronunciation\": \"`[.1wEl.0kxm]\"\n",
      "}\n"
     ]
    }
   ],
   "source": [
    "import json\n",
    "from ibm_watson import TextToSpeechV1\n",
    "from ibm_cloud_sdk_core.authenticators import IAMAuthenticator\n",
    "\n",
    "authenticator = IAMAuthenticator('ETWDjIpMsu2zgqWYf7B7OmF5M6XfhDQVzK0OTnEPgVae')\n",
    "text_to_speech = TextToSpeechV1(\n",
    "    authenticator=authenticator\n",
    ")\n",
    "\n",
    "text_to_speech.set_service_url('https://api.eu-gb.text-to-speech.watson.cloud.ibm.com/instances/d5ebf459-88c0-4286-9a6c-2ebc23f0537f')\n",
    "\n",
    "pronunciation = text_to_speech.get_pronunciation(\n",
    "    text='Welcome',\n",
    "    voice='en-US_AllisonV3Voice',\n",
    "    format='ibm'\n",
    ").get_result()\n",
    "print(json.dumps(pronunciation, indent=2))"
   ]
  },
  {
   "cell_type": "code",
   "execution_count": null,
   "metadata": {
    "id": "XmRCmNFb2nSO"
   },
   "outputs": [],
   "source": []
  }
 ],
 "metadata": {
  "colab": {
   "name": "NLP-A2-IBMWatson-Text to Speech.ipynb",
   "provenance": []
  },
  "kernelspec": {
   "display_name": "Python 3",
   "language": "python",
   "name": "python3"
  },
  "language_info": {
   "codemirror_mode": {
    "name": "ipython",
    "version": 3
   },
   "file_extension": ".py",
   "mimetype": "text/x-python",
   "name": "python",
   "nbconvert_exporter": "python",
   "pygments_lexer": "ipython3",
   "version": "3.8.3"
  }
 },
 "nbformat": 4,
 "nbformat_minor": 1
}
