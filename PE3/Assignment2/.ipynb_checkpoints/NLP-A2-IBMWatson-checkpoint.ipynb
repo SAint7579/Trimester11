{
 "cells": [
  {
   "cell_type": "code",
   "execution_count": 3,
   "metadata": {},
   "outputs": [
    {
     "ename": "FileNotFoundError",
     "evalue": "[Errno 2] No such file or directory: 'C:\\\\Users\\\\vishw\\\\OneDrive\\\\Desktop\\\\T11\\\\PE3\\\\Assignment2\\\\./.\\\\audio-file2.flac'",
     "output_type": "error",
     "traceback": [
      "\u001b[1;31m---------------------------------------------------------------------------\u001b[0m",
      "\u001b[1;31mFileNotFoundError\u001b[0m                         Traceback (most recent call last)",
      "\u001b[1;32m<ipython-input-3-7e1d6d3349ba>\u001b[0m in \u001b[0;36m<module>\u001b[1;34m\u001b[0m\n\u001b[0;32m     13\u001b[0m \u001b[0mspeech_to_text\u001b[0m\u001b[1;33m.\u001b[0m\u001b[0mset_service_url\u001b[0m\u001b[1;33m(\u001b[0m\u001b[1;34m'https://api.eu-gb.speech-to-text.watson.cloud.ibm.com/instances/6fedbb60-6c90-4d7c-bcad-2d11f3e4b917'\u001b[0m\u001b[1;33m)\u001b[0m\u001b[1;33m\u001b[0m\u001b[1;33m\u001b[0m\u001b[0m\n\u001b[0;32m     14\u001b[0m \u001b[1;33m\u001b[0m\u001b[0m\n\u001b[1;32m---> 15\u001b[1;33m with open(os.path.join(os.path.dirname(os.path.abspath(\"__file__\")), './.', 'audio-file2.flac'),\n\u001b[0m\u001b[0;32m     16\u001b[0m                'rb') as audio_file:\n\u001b[0;32m     17\u001b[0m     speech_recognition_results = speech_to_text.recognize(\n",
      "\u001b[1;31mFileNotFoundError\u001b[0m: [Errno 2] No such file or directory: 'C:\\\\Users\\\\vishw\\\\OneDrive\\\\Desktop\\\\T11\\\\PE3\\\\Assignment2\\\\./.\\\\audio-file2.flac'"
     ]
    }
   ],
   "source": [
    "#Speech to text Conversion Using IBM Watson API- File type-Audio-wac file\n",
    "import json\n",
    "import os\n",
    "from os.path import join, dirname\n",
    "from ibm_watson import SpeechToTextV1\n",
    "from ibm_cloud_sdk_core.authenticators import IAMAuthenticator\n",
    "\n",
    "authenticator = IAMAuthenticator('xIYhXtY6yerL5RaJtcIWeZsRUEhr2Lg4QtJl8ewdWdFJ')\n",
    "speech_to_text = SpeechToTextV1(\n",
    "    authenticator=authenticator\n",
    ")\n",
    "\n",
    "speech_to_text.set_service_url('https://api.eu-gb.speech-to-text.watson.cloud.ibm.com/instances/6fedbb60-6c90-4d7c-bcad-2d11f3e4b917')\n",
    "\n",
    "with open(os.path.join(os.path.dirname(os.path.abspath(\"__file__\")), './.', 'audio-file2.flac'),\n",
    "               'rb') as audio_file:\n",
    "    speech_recognition_results = speech_to_text.recognize(\n",
    "        audio=audio_file,\n",
    "        content_type='audio/flac',\n",
    "        word_alternatives_threshold=0.9,\n",
    "        keywords=['colorado', 'tornado', 'tornadoes'],\n",
    "        keywords_threshold=0.5\n",
    "    ).get_result()\n",
    "print(json.dumps(speech_recognition_results, indent=2))"
   ]
  },
  {
   "cell_type": "code",
   "execution_count": 6,
   "metadata": {},
   "outputs": [
    {
     "name": "stdout",
     "output_type": "stream",
     "text": [
      "{'result_index': 0, 'results': [{'final': True, 'alternatives': [{'transcript': 'this is C. C. N. N. B. lab welcome CCN L. because finally you ', 'confidence': 0.54}], 'word_alternatives': [{'start_time': 0.0, 'end_time': 0.24, 'alternatives': [{'word': 'this', 'confidence': 1.0}]}, {'start_time': 0.24, 'end_time': 0.36, 'alternatives': [{'word': 'is', 'confidence': 0.97}]}], 'keywords_result': {'welcome': [{'start_time': 1.73, 'end_time': 2.16, 'confidence': 0.73, 'normalized_text': 'welcome'}], 'this': [{'start_time': 0.0, 'end_time': 0.24, 'confidence': 1.0, 'normalized_text': 'this'}]}}]}\n",
      "{\n",
      "  \"result_index\": 0,\n",
      "  \"results\": [\n",
      "    {\n",
      "      \"final\": true,\n",
      "      \"alternatives\": [\n",
      "        {\n",
      "          \"transcript\": \"this is C. C. N. N. B. lab welcome CCN L. because finally you \",\n",
      "          \"confidence\": 0.54\n",
      "        }\n",
      "      ],\n",
      "      \"word_alternatives\": [\n",
      "        {\n",
      "          \"start_time\": 0.0,\n",
      "          \"end_time\": 0.24,\n",
      "          \"alternatives\": [\n",
      "            {\n",
      "              \"word\": \"this\",\n",
      "              \"confidence\": 1.0\n",
      "            }\n",
      "          ]\n",
      "        },\n",
      "        {\n",
      "          \"start_time\": 0.24,\n",
      "          \"end_time\": 0.36,\n",
      "          \"alternatives\": [\n",
      "            {\n",
      "              \"word\": \"is\",\n",
      "              \"confidence\": 0.97\n",
      "            }\n",
      "          ]\n",
      "        }\n",
      "      ],\n",
      "      \"keywords_result\": {\n",
      "        \"welcome\": [\n",
      "          {\n",
      "            \"start_time\": 1.73,\n",
      "            \"end_time\": 2.16,\n",
      "            \"confidence\": 0.73,\n",
      "            \"normalized_text\": \"welcome\"\n",
      "          }\n",
      "        ],\n",
      "        \"this\": [\n",
      "          {\n",
      "            \"start_time\": 0.0,\n",
      "            \"end_time\": 0.24,\n",
      "            \"confidence\": 1.0,\n",
      "            \"normalized_text\": \"this\"\n",
      "          }\n",
      "        ]\n",
      "      }\n",
      "    }\n",
      "  ]\n",
      "}\n"
     ]
    }
   ],
   "source": [
    "#Speech to text Conversion Using IBM Watson API- File type-Audio-mp3 file\n",
    "import json\n",
    "import os\n",
    "from os.path import join, dirname\n",
    "from ibm_watson import SpeechToTextV1\n",
    "from ibm_cloud_sdk_core.authenticators import IAMAuthenticator\n",
    "\n",
    "authenticator = IAMAuthenticator('xIYhXtY6yerL5RaJtcIWeZsRUEhr2Lg4QtJl8ewdWdFJ')\n",
    "speech_to_text = SpeechToTextV1(\n",
    "    authenticator=authenticator\n",
    ")\n",
    "\n",
    "speech_to_text.set_service_url('https://api.eu-gb.speech-to-text.watson.cloud.ibm.com/instances/6fedbb60-6c90-4d7c-bcad-2d11f3e4b917')\n",
    "\n",
    "with open(os.path.join(os.path.dirname(os.path.abspath(\"__file__\")), './.', 'welcom12.mp3'),\n",
    "               'rb') as audio_file:\n",
    "    speech_recognition_results = speech_to_text.recognize(\n",
    "        audio=audio_file,\n",
    "        content_type='audio/mp3',\n",
    "        word_alternatives_threshold=0.9,\n",
    "        keywords=['welcome', 'this'],\n",
    "        keywords_threshold=0.5\n",
    "    ).get_result()\n",
    "print(speech_recognition_results)\n",
    "print(json.dumps(speech_recognition_results, indent=2))"
   ]
  },
  {
   "cell_type": "code",
   "execution_count": null,
   "metadata": {},
   "outputs": [],
   "source": []
  }
 ],
 "metadata": {
  "kernelspec": {
   "display_name": "Python 3",
   "language": "python",
   "name": "python3"
  },
  "language_info": {
   "codemirror_mode": {
    "name": "ipython",
    "version": 3
   },
   "file_extension": ".py",
   "mimetype": "text/x-python",
   "name": "python",
   "nbconvert_exporter": "python",
   "pygments_lexer": "ipython3",
   "version": "3.8.3"
  }
 },
 "nbformat": 4,
 "nbformat_minor": 4
}
