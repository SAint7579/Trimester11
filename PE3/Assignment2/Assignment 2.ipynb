{
 "cells": [
  {
   "cell_type": "markdown",
   "metadata": {},
   "source": [
    "Vishwa Mohan Singh <br>\n",
    "CCNLP1 <br>\n",
    "PA10 - 1032170273"
   ]
  },
  {
   "cell_type": "code",
   "execution_count": 86,
   "metadata": {},
   "outputs": [],
   "source": [
    "import json\n",
    "from ibm_watson import TextToSpeechV1\n",
    "from ibm_watson import SpeechToTextV1\n",
    "from ibm_cloud_sdk_core.authenticators import IAMAuthenticator\n",
    "import os\n",
    "from os.path import join, dirname\n",
    "import sounddevice as sd\n",
    "from scipy.io.wavfile import write\n",
    "from playsound import playsound\n",
    "import simpleaudio as sa"
   ]
  },
  {
   "cell_type": "code",
   "execution_count": 15,
   "metadata": {},
   "outputs": [],
   "source": [
    "authenticator_sot = IAMAuthenticator('xIYhXtY6yerL5RaJtcIWeZsRUEhr2Lg4QtJl8ewdWdFJ')\n",
    "authenticator_tos = IAMAuthenticator('ETWDjIpMsu2zgqWYf7B7OmF5M6XfhDQVzK0OTnEPgVae')\n"
   ]
  },
  {
   "cell_type": "markdown",
   "metadata": {},
   "source": [
    "# IBM Watson Text To Speech"
   ]
  },
  {
   "cell_type": "code",
   "execution_count": 23,
   "metadata": {},
   "outputs": [
    {
     "name": "stdout",
     "output_type": "stream",
     "text": [
      "{\n",
      "  \"name\": \"en-US_AllisonV3Voice\",\n",
      "  \"language\": \"en-US\",\n",
      "  \"gender\": \"female\",\n",
      "  \"description\": \"Allison: American English female voice. Dnn technology.\",\n",
      "  \"customizable\": true,\n",
      "  \"supported_features\": {\n",
      "    \"custom_pronunciation\": true,\n",
      "    \"voice_transformation\": false\n",
      "  },\n",
      "  \"url\": \"https://api.eu-gb.text-to-speech.watson.cloud.ibm.com/instances/d5ebf459-88c0-4286-9a6c-2ebc23f0537f/v1/voices/en-US_AllisonV3Voice\"\n",
      "}\n"
     ]
    }
   ],
   "source": [
    "text_to_speech = TextToSpeechV1(\n",
    "    authenticator=authenticator_tos\n",
    ")\n",
    "text_to_speech.set_service_url('https://api.eu-gb.text-to-speech.watson.cloud.ibm.com/instances/d5ebf459-88c0-4286-9a6c-2ebc23f0537f')\n",
    "\n",
    "voice = text_to_speech.get_voice('en-US_AllisonV3Voice').get_result()\n",
    "print(json.dumps(voice, indent=2))\n",
    "with open('audio_file.wav', 'wb') as audio_file:\n",
    "    audio_file.write(\n",
    "        text_to_speech.synthesize(\n",
    "            'The quick brown fox jumped over the lazy dog',\n",
    "            voice='en-US_AllisonV3Voice',\n",
    "            accept='audio/wav'        \n",
    "        ).get_result().content)"
   ]
  },
  {
   "cell_type": "markdown",
   "metadata": {},
   "source": [
    "# IBM Watson Speech to Text"
   ]
  },
  {
   "cell_type": "code",
   "execution_count": 18,
   "metadata": {
    "collapsed": true
   },
   "outputs": [
    {
     "name": "stdout",
     "output_type": "stream",
     "text": [
      "{\n",
      "  \"result_index\": 0,\n",
      "  \"results\": [\n",
      "    {\n",
      "      \"final\": true,\n",
      "      \"alternatives\": [\n",
      "        {\n",
      "          \"transcript\": \"several tornadoes touched down as a line of severe thunderstorms swept through Colorado on Sunday \",\n",
      "          \"confidence\": 0.94\n",
      "        }\n",
      "      ],\n",
      "      \"word_alternatives\": [\n",
      "        {\n",
      "          \"start_time\": 1.0,\n",
      "          \"end_time\": 1.52,\n",
      "          \"alternatives\": [\n",
      "            {\n",
      "              \"word\": \"several\",\n",
      "              \"confidence\": 0.98\n",
      "            }\n",
      "          ]\n",
      "        },\n",
      "        {\n",
      "          \"start_time\": 1.52,\n",
      "          \"end_time\": 2.15,\n",
      "          \"alternatives\": [\n",
      "            {\n",
      "              \"word\": \"tornadoes\",\n",
      "              \"confidence\": 1.0\n",
      "            }\n",
      "          ]\n",
      "        },\n",
      "        {\n",
      "          \"start_time\": 2.15,\n",
      "          \"end_time\": 2.54,\n",
      "          \"alternatives\": [\n",
      "            {\n",
      "              \"word\": \"touched\",\n",
      "              \"confidence\": 0.9\n",
      "            }\n",
      "          ]\n",
      "        },\n",
      "        {\n",
      "          \"start_time\": 2.54,\n",
      "          \"end_time\": 2.82,\n",
      "          \"alternatives\": [\n",
      "            {\n",
      "              \"word\": \"down\",\n",
      "              \"confidence\": 0.9\n",
      "            }\n",
      "          ]\n",
      "        },\n",
      "        {\n",
      "          \"start_time\": 2.82,\n",
      "          \"end_time\": 2.92,\n",
      "          \"alternatives\": [\n",
      "            {\n",
      "              \"word\": \"as\",\n",
      "              \"confidence\": 0.9\n",
      "            }\n",
      "          ]\n",
      "        },\n",
      "        {\n",
      "          \"start_time\": 2.92,\n",
      "          \"end_time\": 3.0,\n",
      "          \"alternatives\": [\n",
      "            {\n",
      "              \"word\": \"a\",\n",
      "              \"confidence\": 0.9\n",
      "            }\n",
      "          ]\n",
      "        },\n",
      "        {\n",
      "          \"start_time\": 3.0,\n",
      "          \"end_time\": 3.3,\n",
      "          \"alternatives\": [\n",
      "            {\n",
      "              \"word\": \"line\",\n",
      "              \"confidence\": 1.0\n",
      "            }\n",
      "          ]\n",
      "        },\n",
      "        {\n",
      "          \"start_time\": 3.3,\n",
      "          \"end_time\": 3.39,\n",
      "          \"alternatives\": [\n",
      "            {\n",
      "              \"word\": \"of\",\n",
      "              \"confidence\": 1.0\n",
      "            }\n",
      "          ]\n",
      "        },\n",
      "        {\n",
      "          \"start_time\": 3.39,\n",
      "          \"end_time\": 3.77,\n",
      "          \"alternatives\": [\n",
      "            {\n",
      "              \"word\": \"severe\",\n",
      "              \"confidence\": 1.0\n",
      "            }\n",
      "          ]\n",
      "        },\n",
      "        {\n",
      "          \"start_time\": 3.77,\n",
      "          \"end_time\": 4.51,\n",
      "          \"alternatives\": [\n",
      "            {\n",
      "              \"word\": \"thunderstorms\",\n",
      "              \"confidence\": 1.0\n",
      "            }\n",
      "          ]\n",
      "        },\n",
      "        {\n",
      "          \"start_time\": 4.51,\n",
      "          \"end_time\": 4.79,\n",
      "          \"alternatives\": [\n",
      "            {\n",
      "              \"word\": \"swept\",\n",
      "              \"confidence\": 1.0\n",
      "            }\n",
      "          ]\n",
      "        },\n",
      "        {\n",
      "          \"start_time\": 4.79,\n",
      "          \"end_time\": 4.95,\n",
      "          \"alternatives\": [\n",
      "            {\n",
      "              \"word\": \"through\",\n",
      "              \"confidence\": 1.0\n",
      "            }\n",
      "          ]\n",
      "        },\n",
      "        {\n",
      "          \"start_time\": 4.95,\n",
      "          \"end_time\": 5.6,\n",
      "          \"alternatives\": [\n",
      "            {\n",
      "              \"word\": \"Colorado\",\n",
      "              \"confidence\": 0.97\n",
      "            }\n",
      "          ]\n",
      "        },\n",
      "        {\n",
      "          \"start_time\": 5.6,\n",
      "          \"end_time\": 5.73,\n",
      "          \"alternatives\": [\n",
      "            {\n",
      "              \"word\": \"on\",\n",
      "              \"confidence\": 0.98\n",
      "            }\n",
      "          ]\n",
      "        },\n",
      "        {\n",
      "          \"start_time\": 5.73,\n",
      "          \"end_time\": 6.36,\n",
      "          \"alternatives\": [\n",
      "            {\n",
      "              \"word\": \"Sunday\",\n",
      "              \"confidence\": 0.91\n",
      "            }\n",
      "          ]\n",
      "        }\n",
      "      ]\n",
      "    }\n",
      "  ]\n",
      "}\n"
     ]
    }
   ],
   "source": [
    "## From IBM's FLAC file\n",
    "speech_to_text = SpeechToTextV1(\n",
    "    authenticator=authenticator_sot\n",
    ")\n",
    "speech_to_text.set_service_url('https://api.eu-gb.speech-to-text.watson.cloud.ibm.com/instances/6fedbb60-6c90-4d7c-bcad-2d11f3e4b917')\n",
    "\n",
    "with open(os.path.join(os.path.dirname(os.path.abspath(\"__file__\")), './.', 'audio-file.flac'),\n",
    "               'rb') as audio_file:\n",
    "    speech_recognition_results = speech_to_text.recognize(\n",
    "        audio=audio_file,\n",
    "        content_type='audio/flac',\n",
    "        word_alternatives_threshold=0.9,\n",
    "    ).get_result()\n",
    "print(json.dumps(speech_recognition_results, indent=2))"
   ]
  },
  {
   "cell_type": "code",
   "execution_count": 19,
   "metadata": {
    "collapsed": true
   },
   "outputs": [
    {
     "name": "stdout",
     "output_type": "stream",
     "text": [
      "{\n",
      "  \"result_index\": 0,\n",
      "  \"results\": [\n",
      "    {\n",
      "      \"final\": true,\n",
      "      \"alternatives\": [\n",
      "        {\n",
      "          \"transcript\": \"the quick brown fox jumps over the lazy dog \",\n",
      "          \"confidence\": 0.95\n",
      "        }\n",
      "      ],\n",
      "      \"word_alternatives\": [\n",
      "        {\n",
      "          \"start_time\": 0.0,\n",
      "          \"end_time\": 0.15,\n",
      "          \"alternatives\": [\n",
      "            {\n",
      "              \"word\": \"the\",\n",
      "              \"confidence\": 1.0\n",
      "            }\n",
      "          ]\n",
      "        },\n",
      "        {\n",
      "          \"start_time\": 0.15,\n",
      "          \"end_time\": 0.45,\n",
      "          \"alternatives\": [\n",
      "            {\n",
      "              \"word\": \"quick\",\n",
      "              \"confidence\": 1.0\n",
      "            }\n",
      "          ]\n",
      "        },\n",
      "        {\n",
      "          \"start_time\": 0.45,\n",
      "          \"end_time\": 0.77,\n",
      "          \"alternatives\": [\n",
      "            {\n",
      "              \"word\": \"brown\",\n",
      "              \"confidence\": 1.0\n",
      "            }\n",
      "          ]\n",
      "        },\n",
      "        {\n",
      "          \"start_time\": 0.77,\n",
      "          \"end_time\": 1.18,\n",
      "          \"alternatives\": [\n",
      "            {\n",
      "              \"word\": \"fox\",\n",
      "              \"confidence\": 1.0\n",
      "            }\n",
      "          ]\n",
      "        },\n",
      "        {\n",
      "          \"start_time\": 2.16,\n",
      "          \"end_time\": 2.61,\n",
      "          \"alternatives\": [\n",
      "            {\n",
      "              \"word\": \"dog\",\n",
      "              \"confidence\": 0.94\n",
      "            }\n",
      "          ]\n",
      "        }\n",
      "      ]\n",
      "    }\n",
      "  ]\n",
      "}\n"
     ]
    }
   ],
   "source": [
    "## From WAV File\n",
    "speech_to_text = SpeechToTextV1(\n",
    "    authenticator=authenticator_sot\n",
    ")\n",
    "\n",
    "speech_to_text.set_service_url('https://api.eu-gb.speech-to-text.watson.cloud.ibm.com/instances/6fedbb60-6c90-4d7c-bcad-2d11f3e4b917')\n",
    "\n",
    "with open(os.path.join(os.path.dirname(os.path.abspath(\"__file__\")), './.', 'audio_file.wav'),\n",
    "               'rb') as audio_file:\n",
    "    speech_recognition_results = speech_to_text.recognize(\n",
    "        audio=audio_file,\n",
    "        content_type='audio/wav',\n",
    "        word_alternatives_threshold=0.9,\n",
    "    ).get_result()\n",
    "print(json.dumps(speech_recognition_results, indent=2))"
   ]
  },
  {
   "cell_type": "markdown",
   "metadata": {},
   "source": [
    "## Recite"
   ]
  },
  {
   "cell_type": "code",
   "execution_count": 108,
   "metadata": {},
   "outputs": [],
   "source": [
    "def Reciter(file):\n",
    "    '''Records users voice for spelling'''\n",
    "    speech_to_text = SpeechToTextV1(\n",
    "        authenticator=authenticator_sot\n",
    "    )\n",
    "    speech_to_text.set_service_url('https://api.eu-gb.speech-to-text.watson.cloud.ibm.com/instances/6fedbb60-6c90-4d7c-bcad-2d11f3e4b917')\n",
    "\n",
    "    with open(os.path.join(os.path.dirname(os.path.abspath(\"__file__\")), './.', file),\n",
    "                   'rb') as audio_file:\n",
    "        speech_recognition_results = speech_to_text.recognize(\n",
    "            audio=audio_file,\n",
    "            content_type='audio/wav',\n",
    "            word_alternatives_threshold=0.9,\n",
    "        ).get_result()\n",
    "    sentence = speech_recognition_results['results'][0]['alternatives'][0]['transcript']\n",
    "    print(sentence)"
   ]
  },
  {
   "cell_type": "code",
   "execution_count": 109,
   "metadata": {},
   "outputs": [],
   "source": [
    "def VoiceCommandReciter():\n",
    "    '''Records users voice for spelling'''\n",
    "    fs = 44100  # Sample rate\n",
    "    seconds = 10  # Duration of recording\n",
    "    print(\"Say a sentence: \")\n",
    "    myrecording = sd.rec(int(seconds * fs), samplerate=fs, channels=2)\n",
    "    sd.wait()  # Wait until recording is finished\n",
    "    write('output_reciter.wav', fs, myrecording)  # Save as WAV file \n",
    "    print(\"Recording Done\")\n",
    "    print(\"\\n\\nYou Said: \")\n",
    "    Reciter('output_reciter.wav')\n",
    "    \n"
   ]
  },
  {
   "cell_type": "code",
   "execution_count": 110,
   "metadata": {},
   "outputs": [
    {
     "name": "stdout",
     "output_type": "stream",
     "text": [
      "Say a sentence: \n",
      "Recording Done\n",
      "\n",
      "\n",
      "You Said: \n",
      "the quick brown fox jumps over the lazy dog \n"
     ]
    }
   ],
   "source": [
    "VoiceCommandReciter()"
   ]
  },
  {
   "cell_type": "markdown",
   "metadata": {},
   "source": [
    "# Speller"
   ]
  },
  {
   "cell_type": "code",
   "execution_count": 82,
   "metadata": {},
   "outputs": [],
   "source": [
    "## From IBM's FLAC file\n",
    "\n",
    "def Speller(file):\n",
    "    '''Records users voice for spelling'''\n",
    "    speech_to_text = SpeechToTextV1(\n",
    "        authenticator=authenticator_sot\n",
    "    )\n",
    "    speech_to_text.set_service_url('https://api.eu-gb.speech-to-text.watson.cloud.ibm.com/instances/6fedbb60-6c90-4d7c-bcad-2d11f3e4b917')\n",
    "\n",
    "    with open(os.path.join(os.path.dirname(os.path.abspath(\"__file__\")), './.', file),\n",
    "                   'rb') as audio_file:\n",
    "        speech_recognition_results = speech_to_text.recognize(\n",
    "            audio=audio_file,\n",
    "            content_type='audio/wav',\n",
    "            word_alternatives_threshold=0.9,\n",
    "        ).get_result()\n",
    "    word = speech_recognition_results['results'][0]['alternatives'][0]['transcript']\n",
    "    splitted = ' '.join(list(word))[:-1]\n",
    "    print(splitted)\n",
    "\n",
    "\n",
    "    text_to_speech = TextToSpeechV1(\n",
    "        authenticator=authenticator_tos\n",
    "    )\n",
    "    text_to_speech.set_service_url('https://api.eu-gb.text-to-speech.watson.cloud.ibm.com/instances/d5ebf459-88c0-4286-9a6c-2ebc23f0537f')\n",
    "\n",
    "    voice = text_to_speech.get_voice('en-US_AllisonV3Voice').get_result()\n",
    "    with open('spell_out.wav', 'wb') as audio_file:\n",
    "        audio_file.write(\n",
    "            text_to_speech.synthesize(\n",
    "                splitted,\n",
    "                voice='en-US_AllisonV3Voice',\n",
    "                accept='audio/wav'        \n",
    "            ).get_result().content)"
   ]
  },
  {
   "cell_type": "code",
   "execution_count": 83,
   "metadata": {},
   "outputs": [
    {
     "name": "stdout",
     "output_type": "stream",
     "text": [
      "e n v i r o n m e n t \n"
     ]
    }
   ],
   "source": [
    "Speller('word.wav')"
   ]
  },
  {
   "cell_type": "code",
   "execution_count": 92,
   "metadata": {},
   "outputs": [],
   "source": [
    "def VoiceCommandSpeller():\n",
    "    '''Records users voice for spelling'''\n",
    "    fs = 44100  # Sample rate\n",
    "    seconds = 5  # Duration of recording\n",
    "    print(\"Say a word: \")\n",
    "    myrecording = sd.rec(int(seconds * fs), samplerate=fs, channels=2)\n",
    "    sd.wait()  # Wait until recording is finished\n",
    "    write('output_speller.wav', fs, myrecording)  # Save as WAV file \n",
    "    print(\"Recording Done\")\n",
    "    print(\"\\n\\nFinding Results....\")\n",
    "    Speller('output_speller.wav')\n",
    "    print(\"Spelling it out....\")\n",
    "    \n",
    "    #Playing Audio\n",
    "    wave_obj = sa.WaveObject.from_wave_file(\"spell_out.wav\")\n",
    "    play_obj = wave_obj.play()\n",
    "    play_obj.wait_done()  # Wait until sound has finished playing"
   ]
  },
  {
   "cell_type": "code",
   "execution_count": 93,
   "metadata": {},
   "outputs": [
    {
     "name": "stdout",
     "output_type": "stream",
     "text": [
      "Speak your calculation: \n",
      "Recording Done\n",
      "\n",
      "\n",
      "Finding Results....\n",
      "e n v i r o n m e n t \n",
      "Spelling it out....\n"
     ]
    }
   ],
   "source": [
    "VoiceCommandSpeller()"
   ]
  },
  {
   "cell_type": "markdown",
   "metadata": {},
   "source": [
    "# Calculator"
   ]
  },
  {
   "cell_type": "code",
   "execution_count": 54,
   "metadata": {},
   "outputs": [],
   "source": [
    "##Generating commands\n",
    "text_to_speech = TextToSpeechV1(\n",
    "    authenticator=authenticator_tos\n",
    ")\n",
    "text_to_speech.set_service_url('https://api.eu-gb.text-to-speech.watson.cloud.ibm.com/instances/d5ebf459-88c0-4286-9a6c-2ebc23f0537f')\n",
    "\n",
    "voice = text_to_speech.get_voice('en-US_AllisonV3Voice').get_result()\n",
    "\n",
    "with open('cal1.wav', 'wb') as audio_file:\n",
    "    audio_file.write(\n",
    "        text_to_speech.synthesize(\n",
    "            'Five minus Four',\n",
    "            voice='en-US_AllisonV3Voice',\n",
    "            accept='audio/wav'        \n",
    "        ).get_result().content)\n",
    "    \n",
    "with open('cal2.wav', 'wb') as audio_file:\n",
    "    audio_file.write(\n",
    "        text_to_speech.synthesize(\n",
    "            'Five into Two',\n",
    "            voice='en-US_AllisonV3Voice',\n",
    "            accept='audio/wav'        \n",
    "        ).get_result().content)\n",
    "    \n",
    "with open('cal3.wav', 'wb') as audio_file:\n",
    "    audio_file.write(\n",
    "        text_to_speech.synthesize(\n",
    "            'Seven plus Eight',\n",
    "            voice='en-US_AllisonV3Voice',\n",
    "            accept='audio/wav'        \n",
    "        ).get_result().content)"
   ]
  },
  {
   "cell_type": "code",
   "execution_count": 78,
   "metadata": {},
   "outputs": [],
   "source": [
    "def calculator(file_name):\n",
    "    '''Does the calculation using an audio file'''\n",
    "    \n",
    "    dictionary = {\"zero\": 0, \"one\": 1, \"two\": 2, \"three\": 3, \"four\":4, \"five\":5, \"six\":6, \"seven\":7, \"eight\":8, \"nine\":9}\n",
    "    speech_to_text = SpeechToTextV1(\n",
    "        authenticator=authenticator_sot\n",
    "    )\n",
    "    speech_to_text.set_service_url('https://api.eu-gb.speech-to-text.watson.cloud.ibm.com/instances/6fedbb60-6c90-4d7c-bcad-2d11f3e4b917')\n",
    "\n",
    "    with open(os.path.join(os.path.dirname(os.path.abspath(\"__file__\")), './.', file_name),\n",
    "                   'rb') as audio_file:\n",
    "        speech_recognition_results = speech_to_text.recognize(\n",
    "            audio=audio_file,\n",
    "            content_type='audio/wav',\n",
    "            word_alternatives_threshold=0.9,\n",
    "        ).get_result()\n",
    "        \n",
    "    command = speech_recognition_results['results'][0]['alternatives'][0]['transcript']\n",
    "    print(\"Recognized Command: \", command)\n",
    "    sap = command.split()\n",
    "    \n",
    "    try:\n",
    "\n",
    "        #Finding the number\n",
    "        number1 = dictionary[sap[0]]\n",
    "        number2 = dictionary[sap[2]]\n",
    "\n",
    "        #Identifying the operation\n",
    "        if sap[1] == \"plus\":\n",
    "            print(\"Result: \",number1 + number2)\n",
    "        elif sap[1] == \"into\":\n",
    "            print(\"Result: \",number1 * number2)\n",
    "        elif sap[1] == \"minus\":\n",
    "            print(\"Result: \",number1 - number2)\n",
    "        else:\n",
    "            print(\"Cannot Recognize\")\n",
    "            \n",
    "    except:\n",
    "        print(\"Cannot Recognize\")\n",
    "    print(\"\\n\")"
   ]
  },
  {
   "cell_type": "code",
   "execution_count": 75,
   "metadata": {},
   "outputs": [
    {
     "name": "stdout",
     "output_type": "stream",
     "text": [
      "Recognized Command:  five minus four \n",
      "Result:  1\n",
      "\n",
      "\n",
      "Recognized Command:  five into two \n",
      "Result:  10\n",
      "\n",
      "\n",
      "Recognized Command:  seven plus eight \n",
      "Result:  15\n",
      "\n",
      "\n",
      "Recognized Command:  nine plus eight \n",
      "Result:  17\n",
      "\n",
      "\n"
     ]
    }
   ],
   "source": [
    "#Calculation 1\n",
    "calculator('cal1.wav')\n",
    "#Calculation 2\n",
    "calculator('cal2.wav')\n",
    "#Calculation 3\n",
    "calculator('cal3.wav')\n",
    "#Calculation in My recorded voice\n",
    "calculator('mycalc.wav')\n"
   ]
  },
  {
   "cell_type": "code",
   "execution_count": 94,
   "metadata": {},
   "outputs": [],
   "source": [
    "#Recording voice via Python\n",
    "def VoiceCommandCalculator():\n",
    "    ''' Calls calculator with user command '''\n",
    "    fs = 44100  # Sample rate\n",
    "    seconds = 5  # Duration of recording\n",
    "    print(\"Speak your calculation: \")\n",
    "    myrecording = sd.rec(int(seconds * fs), samplerate=fs, channels=2)\n",
    "    sd.wait()  # Wait until recording is finished\n",
    "    write('output_cal.wav', fs, myrecording)  # Save as WAV file \n",
    "    print(\"Recording Done\")\n",
    "    print(\"\\n\\nFinding Results....\")\n",
    "    calculator('output_cal.wav')"
   ]
  },
  {
   "cell_type": "code",
   "execution_count": 95,
   "metadata": {},
   "outputs": [
    {
     "name": "stdout",
     "output_type": "stream",
     "text": [
      "Speak your calculation: \n",
      "Recording Done\n",
      "\n",
      "\n",
      "Finding Results....\n",
      "Recognized Command:  five minus two \n",
      "Result:  3\n",
      "\n",
      "\n"
     ]
    }
   ],
   "source": [
    "VoiceCommandCalculator()"
   ]
  }
 ],
 "metadata": {
  "kernelspec": {
   "display_name": "Python 3",
   "language": "python",
   "name": "python3"
  },
  "language_info": {
   "codemirror_mode": {
    "name": "ipython",
    "version": 3
   },
   "file_extension": ".py",
   "mimetype": "text/x-python",
   "name": "python",
   "nbconvert_exporter": "python",
   "pygments_lexer": "ipython3",
   "version": "3.8.3"
  }
 },
 "nbformat": 4,
 "nbformat_minor": 4
}
